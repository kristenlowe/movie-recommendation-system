{
  "cells": [
    {
      "cell_type": "markdown",
      "metadata": {
        "id": "iGqlBgB1wo7t"
      },
      "source": [
        "Import libraries"
      ]
    },
    {
      "cell_type": "code",
      "execution_count": 49,
      "metadata": {
        "id": "bdC6wqcw7m_v"
      },
      "outputs": [],
      "source": [
        "import pandas as pd\n",
        "import re\n",
        "import sys"
      ]
    },
    {
      "cell_type": "markdown",
      "metadata": {
        "id": "fM_o9pe0Ad-s"
      },
      "source": [
        "DataLoader class"
      ]
    },
    {
      "cell_type": "code",
      "execution_count": 50,
      "metadata": {
        "id": "QxxQPa9_Acqd"
      },
      "outputs": [],
      "source": [
        "class DataLoader:\n",
        "  def __init__(self):\n",
        "    self.data = pd.read_csv('tmdb_5000_movies.csv')\n",
        "    self.process_data()\n",
        "\n",
        "  def process_data(self):\n",
        "    self.data = self.data[['title', 'genres', 'release_date',\n",
        "                           'runtime', 'vote_average']]\n",
        "\n",
        "  def get_data(self):\n",
        "    return self.data"
      ]
    },
    {
      "cell_type": "markdown",
      "metadata": {
        "id": "xoE_7QsO8-Is"
      },
      "source": [
        "Movie class"
      ]
    },
    {
      "cell_type": "code",
      "execution_count": 51,
      "metadata": {
        "id": "4otmRGJiu0aj"
      },
      "outputs": [],
      "source": [
        "class Movie:\n",
        "  def __init__(self, title, genre, release_date, runtime, rating):\n",
        "    self.title = title # title of movie\n",
        "    self.genre = re.findall(r': \"(.*?)\\\"',genre) # genre of movie\n",
        "    self.release_date = int(str(release_date)[:4]) # year movie was released\n",
        "    self.runtime = runtime # length of movie in minutes\n",
        "    self.rating = rating # rating of movie (out of 10)"
      ]
    },
    {
      "cell_type": "markdown",
      "metadata": {
        "id": "x9WXkZEv2ULF"
      },
      "source": [
        "MovieDatabase class"
      ]
    },
    {
      "cell_type": "code",
      "execution_count": 52,
      "metadata": {
        "id": "IzhD1RG82UUQ"
      },
      "outputs": [],
      "source": [
        "class MovieDatabase:\n",
        "  def __init__(self):\n",
        "    self.data_loader = DataLoader()\n",
        "    self.movie_data = self.data_loader.get_data()\n",
        "    self.allmovies = self.extract_all_movies()\n",
        "\n",
        "  # extracts all movies from the dataset\n",
        "  def extract_all_movies(self):\n",
        "    movies = []\n",
        "    for index, row in self.movie_data.iterrows():\n",
        "        title = row['title']\n",
        "        genre = row['genres']\n",
        "        release_date = row['release_date']\n",
        "        runtime = row['runtime']\n",
        "        rating = row['vote_average']\n",
        "        movies.append(Movie(title, genre, release_date, runtime, rating))\n",
        "    return movies\n",
        "\n",
        "  # creates new movie object and adds movie to list\n",
        "  def addmovie(self, moviename, moviegenre, moviedate,\n",
        "               movielength, moviestarrating):\n",
        "    self.allmovies.append(Movie(moviename, moviegenre, moviedate,\n",
        "                           movielength, moviestarrating))\n",
        "\n",
        "  # removes movie from list by movie title and date released\n",
        "  def removemovie(self, moviename, moviedate):\n",
        "    for i, movie in enumerate(self.allmovies):\n",
        "      if movie.moviename == moviename and movie.moviedate == moviedate:\n",
        "        return self.allmovies.pop(i)\n",
        "\n",
        "\n",
        "  # returns list of movies that match movie title\n",
        "  def findmoviename(self, moviename):\n",
        "    matchingtitle = []\n",
        "    for movie in self.allmovies:\n",
        "      if movie.moviename == moviename:\n",
        "        matchingtitle.append(movie)\n",
        "    return matchingtitle\n",
        "\n",
        "  # returns list of movies that were released in given year\n",
        "  def findmoviedate(self, movieyear):\n",
        "    matchingdate = []\n",
        "    for movie in self.allmovies:\n",
        "      if movie.moviedate == movieyear:\n",
        "        matchingdate.append(movie)\n",
        "    return matchingdate\n",
        "\n",
        "  # returns list of movies that match a genre\n",
        "  def findmoviegenre(self, moviegenre):\n",
        "    matchinggenre = []\n",
        "    for movie in self.allmovies:\n",
        "      if movie.moviegenre == moviegenre:\n",
        "        matchinggenre.append(movie)\n",
        "    return matchinggenre\n",
        "\n",
        "  # returns sorted list of all movies in order of highest to lowest star rating\n",
        "  def sortstarratings(self):\n",
        "    starheap = Max_heap()\n",
        "    starheap.build_max_heap(self.allmovies)\n",
        "    return starheap.heap_list\n"
      ]
    },
    {
      "cell_type": "markdown",
      "metadata": {
        "id": "1-4YWc0T4AOr"
      },
      "source": [
        "Max_heap class"
      ]
    },
    {
      "cell_type": "code",
      "execution_count": 53,
      "metadata": {
        "id": "exc08cwc-zav"
      },
      "outputs": [],
      "source": [
        "class Max_heap:\n",
        "    def __init__(self):\n",
        "        self.heap_list = [sys.maxsize]\n",
        "\n",
        "    def size(self):\n",
        "        return len(self.heap_list) - 1\n",
        "\n",
        "    def parent(self, index):\n",
        "        ''' Return the parent of a node at index'''\n",
        "        return index // 2\n",
        "\n",
        "    def l_child(self, index):\n",
        "        '''Return the position of the left child node of a given index'''\n",
        "        return 2 * index\n",
        "\n",
        "    def r_child(self, index):\n",
        "        '''Return the position of the right child node of a given index'''\n",
        "        return (2 * index) + 1\n",
        "\n",
        "    def is_leaf(self, index):\n",
        "        ''' Returns true if the given index is a leaf node'''\n",
        "        return index * 2 > self.size\n",
        "\n",
        "    def swap(self, from_pos, to_pos):\n",
        "        '''A helper function to swap two nodes of the heap'''\n",
        "        self.heap_list[from_pos], self.heap_list[to_pos] = self.heap_list[to_pos], self.heap_list[from_pos]\n",
        "\n",
        "\n",
        "    def insert(self, element):\n",
        "        '''\n",
        "        It inserts an element to the heap structure and maintain the heap property.\n",
        "        '''\n",
        "        self.heap_list.append(element)\n",
        "        current = self.size\n",
        "        while (self.heap_list[current].rating > self.heap_list[self.parent(current)].rating):\n",
        "            self.swap(current, self.parent(current))\n",
        "            current = self.parent(current)\n",
        "\n",
        "    def max_heapify(self, i):\n",
        "        '''\n",
        "        # Function to heapify the node at index\n",
        "        '''\n",
        "        l = self.l_child(i)\n",
        "        r = self.r_child(i)\n",
        "\n",
        "        if l <= self.size() and self.heap_list[l].rating > self.heap_list[i].rating:\n",
        "            largest = l\n",
        "        else:\n",
        "            largest = i\n",
        "\n",
        "        if r <= self.size() and self.heap_list[r].rating > self.heap_list[largest].rating:\n",
        "            largest = r\n",
        "\n",
        "        if largest != i :\n",
        "            self.swap(i, largest)\n",
        "            self.max_heapify(largest)\n",
        "\n",
        "\n",
        "    def build_max_heap(self, unsorted_list):\n",
        "        self.heap_list = unsorted_list\n",
        "        for i in range(len(unsorted_list) // 2 , 1, -1):\n",
        "            self.max_heapify(i)\n",
        "\n",
        "    def extract_max(self):\n",
        "        '''Extracts the max of this heap'''\n",
        "\n",
        "        # 1. pop the root of the tree which is on the index 1 of the list\n",
        "        popped = self.heap_list.pop(1)\n",
        "\n",
        "        # 2. Insert the last element of the heap list which is a leaf node and insert it to the root\n",
        "        if(self.size > 1):\n",
        "            self.insert(self.heap_list.pop())\n",
        "        # 3. Call heapify() on the root to fix the error it may have caused.\n",
        "            self.max_heapify(1)\n",
        "\n",
        "        return popped"
      ]
    },
    {
      "cell_type": "markdown",
      "metadata": {
        "id": "zKGBO2aBoL-7"
      },
      "source": [
        "UserProfile class"
      ]
    },
    {
      "cell_type": "code",
      "execution_count": 54,
      "metadata": {
        "id": "C7-KteHSoQka"
      },
      "outputs": [],
      "source": [
        "class UserProfile:\n",
        "    def __init__(self):\n",
        "        self.seen_movies = []\n",
        "\n",
        "    def add_seen_movie(self, movie):\n",
        "        self.seen_movies.append(movie)\n",
        "\n",
        "    def remove_seen_movie(self, movie):\n",
        "        self.seen_movies.remove(movie)\n"
      ]
    },
    {
      "cell_type": "markdown",
      "metadata": {
        "id": "13TCtizWoaQ-"
      },
      "source": [
        "Recommender class"
      ]
    },
    {
      "cell_type": "code",
      "execution_count": 55,
      "metadata": {
        "id": "WkMr1xfIodil"
      },
      "outputs": [],
      "source": [
        "class Recommender:\n",
        "    def __init__(self, movie_database):\n",
        "        self.movie_database = movie_database\n",
        "\n",
        "    def recommend_movie(self, genre2, min_runtime, max_runtime, start_year, end_year, user_profile):\n",
        "        filtered_movies = self.movie_database.allmovies\n",
        "\n",
        "        # Filter movies based on user preferences\n",
        "        if genre2:\n",
        "            filtered_movies = [movie for movie in filtered_movies if genre2 in movie.genre]\n",
        "\n",
        "        if min_runtime is not None:\n",
        "            filtered_movies = [movie for movie in filtered_movies if movie.runtime >= min_runtime]\n",
        "\n",
        "        if max_runtime is not None:\n",
        "            filtered_movies = [movie for movie in filtered_movies if movie.runtime <= max_runtime]\n",
        "\n",
        "        if start_year is not None:\n",
        "            filtered_movies = [movie for movie in filtered_movies if movie.release_date >= start_year]\n",
        "\n",
        "        if end_year is not None:\n",
        "            filtered_movies = [movie for movie in filtered_movies if movie.release_date <= end_year]\n",
        "\n",
        "        # Remove movies the user has already seen\n",
        "        filtered_movies = [movie for movie in filtered_movies if movie not in user_profile.seen_movies]\n",
        "\n",
        "        # Sort filtered movies by rating\n",
        "        sorted_movies = self.movie_database.sortstarratings()\n",
        "\n",
        "        for movie in sorted_movies:\n",
        "            if movie in filtered_movies:\n",
        "                recommended_movie = movie\n",
        "                return recommended_movie\n",
        "\n",
        "        return None\n"
      ]
    },
    {
      "cell_type": "markdown",
      "metadata": {
        "id": "PGUCN8PL99Bf"
      },
      "source": [
        "Main"
      ]
    },
    {
      "cell_type": "code",
      "execution_count": null,
      "metadata": {
        "colab": {
          "base_uri": "https://localhost:8080/"
        },
        "id": "gD76QpGl9-GL",
        "outputId": "e065a5f3-24c9-4457-f5d6-1e712ae4f450"
      },
      "outputs": [],
      "source": [
        "\n",
        "def main():\n",
        "    # Create instances of the required classes\n",
        "    movie_database = MovieDatabase()\n",
        "    user_profile = UserProfile()\n",
        "    recommender = Recommender(movie_database)\n",
        "\n",
        "    # Prompt user for preferred genre\n",
        "    genre_input = input(\"Enter your preferred genre (or leave blank for any genre): \").strip().title()\n",
        "\n",
        "    # Prompt user for runtime range\n",
        "    min_runtime = input(\"Enter minimum runtime in minutes (or leave blank for any): \")\n",
        "    max_runtime = input(\"Enter maximum runtime in minutes (or leave blank for any): \")\n",
        "\n",
        "    # Prompt user for release date range\n",
        "    start_year = input(\"Enter the earliest release year (or leave blank for any): \")\n",
        "    end_year = input(\"Enter the latest release year (or leave blank for any): \")\n",
        "\n",
        "    # Convert runtime and release year inputs to integers if provided\n",
        "    try:\n",
        "        min_runtime = int(min_runtime) if min_runtime else None\n",
        "        max_runtime = int(max_runtime) if max_runtime else None\n",
        "        start_year = int(start_year) if start_year else None\n",
        "        end_year = int(end_year) if end_year else None\n",
        "    except ValueError:\n",
        "        print(\"Invalid input for runtime or release year. Please enter valid integers.\")\n",
        "        return\n",
        "\n",
        "    # Recommend a movie based on user preferences\n",
        "    recommended_movie = recommender.recommend_movie(genre_input, min_runtime, max_runtime,\n",
        "                                                    start_year, end_year, user_profile)\n",
        "\n",
        "    if recommended_movie:\n",
        "        while True:\n",
        "            print(\"Recommended Movie:\", recommended_movie.title)\n",
        "            seen_input = input(\"Have you already seen this movie? (yes/no): \").strip().lower()\n",
        "            if seen_input == \"yes\":\n",
        "                user_profile.add_seen_movie(recommended_movie)\n",
        "                print(\"Movie removed from recommendations.\")\n",
        "                # Get the next recommended movie\n",
        "                recommended_movie = recommender.recommend_movie(genre_input, min_runtime, max_runtime,\n",
        "                                                                start_year, end_year, user_profile)\n",
        "                if not recommended_movie:\n",
        "                    print(\"Sorry, no more movies found matching your criteria.\")\n",
        "                    break\n",
        "            elif seen_input == \"no\":\n",
        "                print(\"Enjoy watching the movie!\")\n",
        "                break\n",
        "            else:\n",
        "                print(\"Invalid input. Please enter 'yes' or 'no'.\")\n",
        "    else:\n",
        "        print(\"Sorry, no movie found matching your criteria.\")\n",
        "\n",
        "if __name__ == \"__main__\":\n",
        "    main()\n"
      ]
    }
  ],
  "metadata": {
    "colab": {
      "provenance": []
    },
    "kernelspec": {
      "display_name": "Python 3",
      "name": "python3"
    },
    "language_info": {
      "name": "python"
    }
  },
  "nbformat": 4,
  "nbformat_minor": 0
}
